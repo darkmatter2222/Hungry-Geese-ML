{
 "cells": [
  {
   "cell_type": "code",
   "execution_count": 3,
   "id": "blind-grocery",
   "metadata": {},
   "outputs": [],
   "source": [
    "import random\n",
    "\n",
    "from kaggle_environments import make"
   ]
  },
  {
   "cell_type": "code",
   "execution_count": 5,
   "id": "herbal-memory",
   "metadata": {},
   "outputs": [],
   "source": [
    "env = make(\"hungry_geese\")"
   ]
  },
  {
   "cell_type": "code",
   "execution_count": 6,
   "id": "planned-cruise",
   "metadata": {},
   "outputs": [],
   "source": [
    "def random_action(obs, step, player):\n",
    "    \"\"\"Choose action randomly considering available actions\"\"\"\n",
    "    prev_action = obs[player]['action']\n",
    "    observation = obs[player]['observation']\n",
    "\n",
    "    # Check legal(available) actions\n",
    "    legal_actions = ['NORTH', 'SOUTH', 'WEST', 'EAST']\n",
    "    if step != 0:\n",
    "        legal_actions.remove(prev_action)\n",
    "\n",
    "    return random.choice(legal_actions)"
   ]
  },
  {
   "cell_type": "code",
   "execution_count": 12,
   "id": "improving-concept",
   "metadata": {},
   "outputs": [
    {
     "name": "stdout",
     "output_type": "stream",
     "text": [
      "Reward\n",
      "Player0 = 401\n",
      "Reward\n",
      "Player1 = 6\n",
      "Reward\n",
      "Player2 = 7\n",
      "Reward\n",
      "Player3 = 3\n"
     ]
    }
   ],
   "source": [
    "# Run reset and step until the end\n",
    "\n",
    "# The number of agents\n",
    "NUM_AGENTS = 4\n",
    "\n",
    "# Reset environment\n",
    "observations = env.reset(num_agents=NUM_AGENTS)\n",
    "\n",
    "while True:\n",
    "    # Game step\n",
    "    step = observations[0]['observation']['step']\n",
    "    # Get random actions for each agent\n",
    "    actions = [random_action(observations, step, p) for p in range(NUM_AGENTS)]\n",
    "    # Play actions\n",
    "    observations = env.step(actions)\n",
    "    # Check terminal\n",
    "    if observations[0]['status'] == 'DONE':\n",
    "        break\n",
    "\n",
    "for o in observations:\n",
    "    print('Reward')\n",
    "    print(f\"Player{o['observation']['index']} = {o['reward']}\")"
   ]
  },
  {
   "cell_type": "code",
   "execution_count": null,
   "id": "female-devil",
   "metadata": {},
   "outputs": [],
   "source": []
  }
 ],
 "metadata": {
  "kernelspec": {
   "display_name": "Python 3",
   "language": "python",
   "name": "python3"
  },
  "language_info": {
   "codemirror_mode": {
    "name": "ipython",
    "version": 3
   },
   "file_extension": ".py",
   "mimetype": "text/x-python",
   "name": "python",
   "nbconvert_exporter": "python",
   "pygments_lexer": "ipython3",
   "version": "3.7.5"
  }
 },
 "nbformat": 4,
 "nbformat_minor": 5
}
